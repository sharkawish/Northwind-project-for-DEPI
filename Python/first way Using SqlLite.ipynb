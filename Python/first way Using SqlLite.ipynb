{
 "cells": [
  {
   "cell_type": "code",
   "execution_count": 2,
   "id": "8e869362-27f3-4f2a-a70e-e77d1f650cbc",
   "metadata": {},
   "outputs": [
    {
     "data": {
      "text/plain": [
       "['Suppliers',\n",
       " 'Shippers',\n",
       " 'Products',\n",
       " 'Orders',\n",
       " 'OrderDetails',\n",
       " 'Employees',\n",
       " 'Customers',\n",
       " 'Categories']"
      ]
     },
     "execution_count": 2,
     "metadata": {},
     "output_type": "execute_result"
    }
   ],
   "source": [
    "import pandas as pd\n",
    "\n",
    "# Load the Excel file to inspect the contents and see the available sheets\n",
    "file_path = 'Data Pro.XLSX'\n",
    "xls = pd.ExcelFile(file_path)\n",
    "\n",
    "# Display sheet names to understand the structure of the file\n",
    "xls.sheet_names"
   ]
  },
  {
   "cell_type": "code",
   "execution_count": 3,
   "id": "9a4f9513-6b7f-4f8a-8a3f-4b0adae19c05",
   "metadata": {},
   "outputs": [
    {
     "data": {
      "text/plain": [
       "(   SupplierID                        SupplierName                 ContactName  \\\n",
       " 0           1                       Exotic Liquid            Charlotte Cooper   \n",
       " 1           2          New Orleans Cajun Delights               Shelley Burke   \n",
       " 2           3           Grandma Kelly's Homestead               Regina Murphy   \n",
       " 3           4                       Tokyo Traders                Yoshi Nagase   \n",
       " 4           5  Cooperativa de Quesos 'Las Cabras'  Antonio del Valle Saavedra   \n",
       " \n",
       "                      Address         City PostalCode Country           Phone  \n",
       " 0             49 Gilbert St.      Londona    EC1 4SD      UK  (171) 555-2222  \n",
       " 1             P.O. Box 78934  New Orleans      70117     USA  (100) 555-4822  \n",
       " 2             707 Oxford Rd.    Ann Arbor      48104     USA  (313) 555-5735  \n",
       " 3  9-8 Sekimai Musashino-shi        Tokyo        100   Japan  (03) 3555-5011  \n",
       " 4          Calle del Rosal 4       Oviedo      33007   Spain  (98) 598 76 54  ,\n",
       "    ShipperID       ShipperName           Phone\n",
       " 0          1    Speedy Express  (503) 555-9831\n",
       " 1          2    United Package  (503) 555-3199\n",
       " 2          3  Federal Shipping  (503) 555-9931,\n",
       "    ProductID                   ProductName  SupplierID  CategoryID  \\\n",
       " 0          1                         Chais           1           1   \n",
       " 1          2                         Chang           1           1   \n",
       " 2          3                 Aniseed Syrup           1           2   \n",
       " 3          4  Chef Anton's Cajun Seasoning           2           2   \n",
       " 4          5        Chef Anton's Gumbo Mix           2           2   \n",
       " \n",
       "                   Unit  Price  \n",
       " 0   10 boxes x 20 bags     18  \n",
       " 1   24 - 12 oz bottles     19  \n",
       " 2  12 - 550 ml bottles     10  \n",
       " 3       48 - 6 oz jars     22  \n",
       " 4             36 boxes     21  ,\n",
       "    OrderID  CustomerID  EmployeeID  OrderDate  ShipperID ShippedDate\n",
       " 0    10248          90           5 1996-07-04          3  2024-10-01\n",
       " 1    10249          81           6 1996-07-05          1         NaT\n",
       " 2    10250          34           4 1996-07-08          2         NaT\n",
       " 3    10251          84           3 1996-07-08          1         NaT\n",
       " 4    10252          76           4 1996-07-09          2         NaT,\n",
       "    OrderDetailID  OrderID  ProductID  Quantity  Returned\n",
       " 0              1    10248         11        12       NaN\n",
       " 1              2    10248         42        10       NaN\n",
       " 2              3    10248         72         5       NaN\n",
       " 3              4    10249         14         9       NaN\n",
       " 4              5    10249         51        40       NaN,\n",
       "    EmployeeID   LastName FirstName  BirthDate       Photo  \\\n",
       " 0           1    Davolio     Nancy 1968-12-08  EmpID1.pic   \n",
       " 1           2     Fuller    Andrew 1952-02-19  EmpID2.pic   \n",
       " 2           3  Leverling     Janet 1963-08-30  EmpID3.pic   \n",
       " 3           4    Peacock  Margaret 1958-09-19  EmpID4.pic   \n",
       " 4           5   Buchanan    Steven 1955-03-04  EmpID5.pic   \n",
       " \n",
       "                                                Notes  \n",
       " 0  Education includes a BA in psychology from Col...  \n",
       " 1  Andrew received his BTS commercial and a Ph.D....  \n",
       " 2  Janet has a BS degree in chemistry from Boston...  \n",
       " 3  Margaret holds a BA in English literature from...  \n",
       " 4  Steven Buchanan graduated from St. Andrews Uni...  ,\n",
       "    CustomerID                        CustomerName         ContactName  \\\n",
       " 0           1                 Alfreds Futterkiste        Maria Anders   \n",
       " 1           2  Ana Trujillo Emparedados y helados        Ana Trujillo   \n",
       " 2           3             Antonio Moreno Taquer?a      Antonio Moreno   \n",
       " 3           4                     Around the Horn        Thomas Hardy   \n",
       " 4           5                  Berglunds snabbk?p  Christina Berglund   \n",
       " \n",
       "                          Address         City PostalCode  Country  \n",
       " 0                  Obere Str. 57       Berlin      12209  Germany  \n",
       " 1  Avda. de la Constituci?n 2222  M?xico D.F.       5021   Mexico  \n",
       " 2                 Mataderos 2312  M?xico D.F.       5023   Mexico  \n",
       " 3                120 Hanover Sq.       London    WA1 1DP       UK  \n",
       " 4                 Berguvsv?gen 8        Lule?   S-958 22   Sweden  ,\n",
       "    CategoryID    CategoryName  \\\n",
       " 0           1       Beverages   \n",
       " 1           2      Condiments   \n",
       " 2           3     Confections   \n",
       " 3           4  Dairy Products   \n",
       " 4           5  Grains/Cereals   \n",
       " \n",
       "                                          Description  \n",
       " 0        Soft drinks, coffees, teas, beers, and ales  \n",
       " 1  Sweet and savory sauces, relishes, spreads, an...  \n",
       " 2                Desserts, candies, and sweet breads  \n",
       " 3                                            Cheeses  \n",
       " 4                Breads, crackers, pasta, and cereal  )"
      ]
     },
     "execution_count": 3,
     "metadata": {},
     "output_type": "execute_result"
    }
   ],
   "source": [
    "# Load the necessary sheets for analysis\n",
    "\n",
    "suppliers_df = pd.read_excel(xls, 'Suppliers')\n",
    "\n",
    "shippers_df = pd.read_excel(xls, 'Shippers')\n",
    "\n",
    "products_df = pd.read_excel(xls, 'Products')\n",
    "\n",
    "orders_df = pd.read_excel(xls, 'Orders')\n",
    "\n",
    "order_details_df = pd.read_excel(xls, 'OrderDetails')\n",
    "\n",
    "employees_df = pd.read_excel(xls, 'Employees')\n",
    "\n",
    "customers_df = pd.read_excel(xls, 'Customers')\n",
    "\n",
    "categories_df = pd.read_excel(xls, 'Categories')\n",
    "\n",
    "\n",
    "\n",
    "# Preview the loaded data to understand its structure\n",
    "\n",
    "suppliers_df.head(), shippers_df.head(), products_df.head(), orders_df.head(), order_details_df.head(), employees_df.head(), customers_df.head(), categories_df.head()"
   ]
  },
  {
   "cell_type": "code",
   "execution_count": 4,
   "id": "30c13933-9020-4413-a207-995aa03c2119",
   "metadata": {},
   "outputs": [
    {
     "data": {
      "text/html": [
       "<div>\n",
       "<style scoped>\n",
       "    .dataframe tbody tr th:only-of-type {\n",
       "        vertical-align: middle;\n",
       "    }\n",
       "\n",
       "    .dataframe tbody tr th {\n",
       "        vertical-align: top;\n",
       "    }\n",
       "\n",
       "    .dataframe thead th {\n",
       "        text-align: right;\n",
       "    }\n",
       "</style>\n",
       "<table border=\"1\" class=\"dataframe\">\n",
       "  <thead>\n",
       "    <tr style=\"text-align: right;\">\n",
       "      <th></th>\n",
       "      <th>OrderDetailID</th>\n",
       "      <th>OrderID</th>\n",
       "      <th>ProductID</th>\n",
       "      <th>Quantity</th>\n",
       "      <th>Returned</th>\n",
       "      <th>ProductName</th>\n",
       "      <th>SupplierID</th>\n",
       "      <th>CategoryID</th>\n",
       "      <th>Unit</th>\n",
       "      <th>Price</th>\n",
       "      <th>...</th>\n",
       "      <th>Address</th>\n",
       "      <th>City</th>\n",
       "      <th>PostalCode</th>\n",
       "      <th>Country</th>\n",
       "      <th>LastName</th>\n",
       "      <th>FirstName</th>\n",
       "      <th>BirthDate</th>\n",
       "      <th>Photo</th>\n",
       "      <th>Notes</th>\n",
       "      <th>TotalRevenue</th>\n",
       "    </tr>\n",
       "  </thead>\n",
       "  <tbody>\n",
       "    <tr>\n",
       "      <th>0</th>\n",
       "      <td>1</td>\n",
       "      <td>10248</td>\n",
       "      <td>11</td>\n",
       "      <td>12</td>\n",
       "      <td>NaN</td>\n",
       "      <td>Queso Cabrales</td>\n",
       "      <td>5</td>\n",
       "      <td>4</td>\n",
       "      <td>1 kg pkg.</td>\n",
       "      <td>21</td>\n",
       "      <td>...</td>\n",
       "      <td>Keskuskatu 45</td>\n",
       "      <td>Helsinki</td>\n",
       "      <td>21240</td>\n",
       "      <td>Finland</td>\n",
       "      <td>Buchanan</td>\n",
       "      <td>Steven</td>\n",
       "      <td>1955-03-04</td>\n",
       "      <td>EmpID5.pic</td>\n",
       "      <td>Steven Buchanan graduated from St. Andrews Uni...</td>\n",
       "      <td>252</td>\n",
       "    </tr>\n",
       "    <tr>\n",
       "      <th>1</th>\n",
       "      <td>2</td>\n",
       "      <td>10248</td>\n",
       "      <td>42</td>\n",
       "      <td>10</td>\n",
       "      <td>NaN</td>\n",
       "      <td>Singaporean Hokkien Fried Mee</td>\n",
       "      <td>20</td>\n",
       "      <td>5</td>\n",
       "      <td>32 - 1 kg pkgs.</td>\n",
       "      <td>14</td>\n",
       "      <td>...</td>\n",
       "      <td>Keskuskatu 45</td>\n",
       "      <td>Helsinki</td>\n",
       "      <td>21240</td>\n",
       "      <td>Finland</td>\n",
       "      <td>Buchanan</td>\n",
       "      <td>Steven</td>\n",
       "      <td>1955-03-04</td>\n",
       "      <td>EmpID5.pic</td>\n",
       "      <td>Steven Buchanan graduated from St. Andrews Uni...</td>\n",
       "      <td>140</td>\n",
       "    </tr>\n",
       "    <tr>\n",
       "      <th>2</th>\n",
       "      <td>3</td>\n",
       "      <td>10248</td>\n",
       "      <td>72</td>\n",
       "      <td>5</td>\n",
       "      <td>NaN</td>\n",
       "      <td>Mozzarella di Giovanni</td>\n",
       "      <td>14</td>\n",
       "      <td>4</td>\n",
       "      <td>24 - 200 g pkgs.</td>\n",
       "      <td>35</td>\n",
       "      <td>...</td>\n",
       "      <td>Keskuskatu 45</td>\n",
       "      <td>Helsinki</td>\n",
       "      <td>21240</td>\n",
       "      <td>Finland</td>\n",
       "      <td>Buchanan</td>\n",
       "      <td>Steven</td>\n",
       "      <td>1955-03-04</td>\n",
       "      <td>EmpID5.pic</td>\n",
       "      <td>Steven Buchanan graduated from St. Andrews Uni...</td>\n",
       "      <td>175</td>\n",
       "    </tr>\n",
       "    <tr>\n",
       "      <th>3</th>\n",
       "      <td>4</td>\n",
       "      <td>10249</td>\n",
       "      <td>14</td>\n",
       "      <td>9</td>\n",
       "      <td>NaN</td>\n",
       "      <td>Tofu</td>\n",
       "      <td>6</td>\n",
       "      <td>7</td>\n",
       "      <td>40 - 100 g pkgs.</td>\n",
       "      <td>23</td>\n",
       "      <td>...</td>\n",
       "      <td>Av. In?s de Castro, 414</td>\n",
       "      <td>S?o Paulo</td>\n",
       "      <td>05634-030</td>\n",
       "      <td>Brazil</td>\n",
       "      <td>Suyama</td>\n",
       "      <td>Michael</td>\n",
       "      <td>1963-07-02</td>\n",
       "      <td>EmpID6.pic</td>\n",
       "      <td>Michael is a graduate of Sussex University (MA...</td>\n",
       "      <td>207</td>\n",
       "    </tr>\n",
       "    <tr>\n",
       "      <th>4</th>\n",
       "      <td>5</td>\n",
       "      <td>10249</td>\n",
       "      <td>51</td>\n",
       "      <td>40</td>\n",
       "      <td>NaN</td>\n",
       "      <td>Manjimup Dried Apples</td>\n",
       "      <td>24</td>\n",
       "      <td>7</td>\n",
       "      <td>50 - 300 g pkgs.</td>\n",
       "      <td>53</td>\n",
       "      <td>...</td>\n",
       "      <td>Av. In?s de Castro, 414</td>\n",
       "      <td>S?o Paulo</td>\n",
       "      <td>05634-030</td>\n",
       "      <td>Brazil</td>\n",
       "      <td>Suyama</td>\n",
       "      <td>Michael</td>\n",
       "      <td>1963-07-02</td>\n",
       "      <td>EmpID6.pic</td>\n",
       "      <td>Michael is a graduate of Sussex University (MA...</td>\n",
       "      <td>2120</td>\n",
       "    </tr>\n",
       "  </tbody>\n",
       "</table>\n",
       "<p>5 rows × 29 columns</p>\n",
       "</div>"
      ],
      "text/plain": [
       "   OrderDetailID  OrderID  ProductID  Quantity  Returned  \\\n",
       "0              1    10248         11        12       NaN   \n",
       "1              2    10248         42        10       NaN   \n",
       "2              3    10248         72         5       NaN   \n",
       "3              4    10249         14         9       NaN   \n",
       "4              5    10249         51        40       NaN   \n",
       "\n",
       "                     ProductName  SupplierID  CategoryID              Unit  \\\n",
       "0                 Queso Cabrales           5           4         1 kg pkg.   \n",
       "1  Singaporean Hokkien Fried Mee          20           5   32 - 1 kg pkgs.   \n",
       "2         Mozzarella di Giovanni          14           4  24 - 200 g pkgs.   \n",
       "3                           Tofu           6           7  40 - 100 g pkgs.   \n",
       "4          Manjimup Dried Apples          24           7  50 - 300 g pkgs.   \n",
       "\n",
       "   Price  ...                  Address       City  PostalCode  Country  \\\n",
       "0     21  ...            Keskuskatu 45   Helsinki       21240  Finland   \n",
       "1     14  ...            Keskuskatu 45   Helsinki       21240  Finland   \n",
       "2     35  ...            Keskuskatu 45   Helsinki       21240  Finland   \n",
       "3     23  ...  Av. In?s de Castro, 414  S?o Paulo   05634-030   Brazil   \n",
       "4     53  ...  Av. In?s de Castro, 414  S?o Paulo   05634-030   Brazil   \n",
       "\n",
       "   LastName  FirstName  BirthDate       Photo  \\\n",
       "0  Buchanan     Steven 1955-03-04  EmpID5.pic   \n",
       "1  Buchanan     Steven 1955-03-04  EmpID5.pic   \n",
       "2  Buchanan     Steven 1955-03-04  EmpID5.pic   \n",
       "3    Suyama    Michael 1963-07-02  EmpID6.pic   \n",
       "4    Suyama    Michael 1963-07-02  EmpID6.pic   \n",
       "\n",
       "                                               Notes TotalRevenue  \n",
       "0  Steven Buchanan graduated from St. Andrews Uni...          252  \n",
       "1  Steven Buchanan graduated from St. Andrews Uni...          140  \n",
       "2  Steven Buchanan graduated from St. Andrews Uni...          175  \n",
       "3  Michael is a graduate of Sussex University (MA...          207  \n",
       "4  Michael is a graduate of Sussex University (MA...         2120  \n",
       "\n",
       "[5 rows x 29 columns]"
      ]
     },
     "execution_count": 4,
     "metadata": {},
     "output_type": "execute_result"
    }
   ],
   "source": [
    "# Merging relevant data for analysis\n",
    "# Joining OrderDetails with Products and Categories to get product details and category info\n",
    "order_details_merged_df = pd.merge(order_details_df, products_df, on='ProductID')\n",
    "order_details_merged_df = pd.merge(order_details_merged_df, categories_df, on='CategoryID')\n",
    "\n",
    "# Joining with Orders to get customer and shipping details\n",
    "order_details_merged_df = pd.merge(order_details_merged_df, orders_df, on='OrderID')\n",
    "\n",
    "# Joining with Customers to get customer details\n",
    "order_details_merged_df = pd.merge(order_details_merged_df, customers_df, on='CustomerID')\n",
    "\n",
    "# Joining with Employees to get employee details\n",
    "order_details_merged_df = pd.merge(order_details_merged_df, employees_df, on='EmployeeID')\n",
    "\n",
    "# Calculating Total Revenue (Price * Quantity) for each order detail\n",
    "order_details_merged_df['TotalRevenue'] = order_details_merged_df['Price'] * order_details_merged_df['Quantity']\n",
    "\n",
    "# Preview the cleaned and merged dataframe\n",
    "order_details_merged_df.head()\n"
   ]
  },
  {
   "cell_type": "code",
   "execution_count": 5,
   "id": "290685f9-30be-49cf-92c7-b840397f04ce",
   "metadata": {},
   "outputs": [
    {
     "data": {
      "text/plain": [
       "387066"
      ]
     },
     "execution_count": 5,
     "metadata": {},
     "output_type": "execute_result"
    }
   ],
   "source": [
    "# 1-Calculating the total revenue from all orders\n",
    "total_revenue = order_details_merged_df['TotalRevenue'].sum()\n",
    "total_revenue"
   ]
  },
  {
   "cell_type": "code",
   "execution_count": 6,
   "id": "18d3cffb-32f7-4798-9267-8d82c28f2b87",
   "metadata": {},
   "outputs": [
    {
     "name": "stdout",
     "output_type": "stream",
     "text": [
      "Total Number of Orders:  196\n"
     ]
    }
   ],
   "source": [
    "#2- Total Number of Orders\n",
    "total_orders = orders_df['OrderID'].nunique()\n",
    "print(\"Total Number of Orders: \", total_orders)\n"
   ]
  },
  {
   "cell_type": "code",
   "execution_count": 7,
   "id": "fc39b5bd-dbe7-4e9d-b6f2-c31e7ae1df85",
   "metadata": {},
   "outputs": [
    {
     "name": "stdout",
     "output_type": "stream",
     "text": [
      "Number of Unique Customers:  74\n"
     ]
    }
   ],
   "source": [
    "# 3-Number of Unique Customers\n",
    "# Number of Unique Customers who placed orders\n",
    "unique_customers = order_details_merged_df['CustomerID'].nunique()\n",
    "print(\"Number of Unique Customers: \", unique_customers)\n"
   ]
  },
  {
   "cell_type": "code",
   "execution_count": 8,
   "id": "d6017d08-a1a5-469a-b763-be2419128787",
   "metadata": {},
   "outputs": [
    {
     "name": "stdout",
     "output_type": "stream",
     "text": [
      "Best-Selling 5 Products by Revenue:\n",
      " ProductName\n",
      "C?te de Blaye              63096\n",
      "Th?ringer Rostbratwurst    20832\n",
      "Raclette Courdavault       19030\n",
      "Tarte au sucre             15925\n",
      "Camembert Pierrot          14620\n",
      "Name: TotalRevenue, dtype: int64\n"
     ]
    }
   ],
   "source": [
    "# 4-Best-Selling 5 Products\n",
    "# Best-Selling 5 Products by Total Revenue (Price * Quantity)\n",
    "best_selling_products = order_details_merged_df.groupby('ProductName')['TotalRevenue'].sum().nlargest(5)\n",
    "print(\"Best-Selling 5 Products by Revenue:\\n\", best_selling_products)\n",
    "\n"
   ]
  },
  {
   "cell_type": "code",
   "execution_count": 9,
   "id": "e8b81200-c2ca-4a25-b423-3ae0aece9efa",
   "metadata": {},
   "outputs": [
    {
     "name": "stdout",
     "output_type": "stream",
     "text": [
      "Total Revenue by Category:\n",
      " CategoryName\n",
      "Beverages         99699\n",
      "Condiments        35024\n",
      "Confections       54729\n",
      "Dairy Products    70530\n",
      "Grains/Cereals    22370\n",
      "Meat/Poultry      51636\n",
      "Produce           23439\n",
      "Seafood           29639\n",
      "Name: TotalRevenue, dtype: int64\n"
     ]
    }
   ],
   "source": [
    "#5- Total Revenue by Category\n",
    "revenue_by_category = order_details_merged_df.groupby('CategoryName')['TotalRevenue'].sum()\n",
    "print(\"Total Revenue by Category:\\n\", revenue_by_category)\n"
   ]
  },
  {
   "cell_type": "code",
   "execution_count": 10,
   "id": "f2a7dbe2-bd86-4b2d-8d84-a7421cafba62",
   "metadata": {},
   "outputs": [
    {
     "name": "stdout",
     "output_type": "stream",
     "text": [
      "Customer Distribution by Country:\n",
      " Country\n",
      "USA            13\n",
      "Germany        11\n",
      "France         11\n",
      "Brazil          9\n",
      "UK              7\n",
      "Spain           5\n",
      "Mexico          5\n",
      "Venezuela       4\n",
      "Canada          3\n",
      "Argentina       3\n",
      "Italy           3\n",
      "Finland         2\n",
      "Denmark         2\n",
      "Belgium         2\n",
      "Austria         2\n",
      "Portugal        2\n",
      "Switzerland     2\n",
      "Sweden          2\n",
      "Ireland         1\n",
      "Norway          1\n",
      "Poland          1\n",
      "Name: count, dtype: int64\n"
     ]
    }
   ],
   "source": [
    "# 6-Customer Distribution by Country\n",
    "customer_distribution = customers_df['Country'].value_counts()\n",
    "print(\"Customer Distribution by Country:\\n\", customer_distribution)\n"
   ]
  },
  {
   "cell_type": "code",
   "execution_count": 11,
   "id": "e902f2cb-8c8d-4ca6-a0e8-57a266cf9a75",
   "metadata": {},
   "outputs": [
    {
     "name": "stdout",
     "output_type": "stream",
     "text": [
      "Total Sales by Country:\n",
      " Country\n",
      "Argentina        396\n",
      "Austria        51687\n",
      "Belgium         8075\n",
      "Brazil         40272\n",
      "Canada         31402\n",
      "Denmark        17954\n",
      "Finland         6478\n",
      "France         29559\n",
      "Germany        47316\n",
      "Ireland        15405\n",
      "Italy           4339\n",
      "Mexico          5882\n",
      "Norway          1341\n",
      "Poland           585\n",
      "Portugal        4169\n",
      "Spain           4316\n",
      "Sweden          9736\n",
      "Switzerland     8109\n",
      "UK             16764\n",
      "USA            69722\n",
      "Venezuela      13559\n",
      "Name: TotalRevenue, dtype: int64\n"
     ]
    }
   ],
   "source": [
    "# 7-Total Sales by Country (Revenue across different countries)\n",
    "sales_by_country = order_details_merged_df.groupby('Country')['TotalRevenue'].sum()\n",
    "print(\"Total Sales by Country:\\n\", sales_by_country)\n"
   ]
  },
  {
   "cell_type": "code",
   "execution_count": 12,
   "id": "0f51dac5-a2f2-462a-9e0f-e87b1f80cba5",
   "metadata": {},
   "outputs": [
    {
     "name": "stdout",
     "output_type": "stream",
     "text": [
      "Total Suppliers:  29\n"
     ]
    }
   ],
   "source": [
    "# 8-Total Number of Suppliers\n",
    "total_suppliers = suppliers_df['SupplierID'].nunique()\n",
    "print(\"Total Suppliers: \", total_suppliers)\n"
   ]
  },
  {
   "cell_type": "code",
   "execution_count": 13,
   "id": "2e1aaeb0-3189-46a9-921a-909f4f732d48",
   "metadata": {},
   "outputs": [
    {
     "name": "stdout",
     "output_type": "stream",
     "text": [
      "Top 3 Employees by Sales:\n",
      " EmployeeID  LastName   FirstName\n",
      "4           Peacock    Margaret     105926\n",
      "1           Davolio    Nancy         57765\n",
      "3           Leverling  Janet         42823\n",
      "Name: TotalRevenue, dtype: int64\n"
     ]
    }
   ],
   "source": [
    "# 9-Top 3 Employees by Sales\n",
    "top_employees = order_details_merged_df.groupby(['EmployeeID', 'LastName', 'FirstName'])['TotalRevenue'].sum().nlargest(3)\n",
    "print(\"Top 3 Employees by Sales:\\n\", top_employees)\n"
   ]
  },
  {
   "cell_type": "code",
   "execution_count": 12,
   "id": "37dae3a9-e2d1-4b8d-93f8-111b7edb0a5e",
   "metadata": {},
   "outputs": [
    {
     "name": "stdout",
     "output_type": "stream",
     "text": [
      "            CustomerName  OrderCount\n",
      "0           Thomas Hardy           2\n",
      "1     Christina Berglund           3\n",
      "2     Fr?d?rique Citeaux           4\n",
      "3      Laurence Lebihans           3\n",
      "4      Elizabeth Lincoln           4\n",
      "5              Yang Wang           2\n",
      "6           Sven Ottlieb           2\n",
      "7              Ann Devon           2\n",
      "8          Roland Mendel          10\n",
      "9              Aria Cruz           3\n",
      "10         Maria Larsson           4\n",
      "11         Peter Franken           4\n",
      "12        Lino Rodriguez           2\n",
      "13      Eduardo Saavedra           2\n",
      "14          Mario Pontes           2\n",
      "15      Carlos Hern?ndez           2\n",
      "16         Yoshi Latimer           3\n",
      "17      Patricia McKenna           6\n",
      "18         Helen Bennett           3\n",
      "19         Philip Cramer           2\n",
      "20        Annette Roulet           5\n",
      "21        Renate Messner           3\n",
      "22       Carlos Gonz?lez           5\n",
      "23           Fran Wilson           2\n",
      "24      Giovanni Rovelli           3\n",
      "25        Jean Fresni?re           5\n",
      "26         Rene Phillips           4\n",
      "27   Guillermo Fern?ndez           2\n",
      "28           Georg Pipps           3\n",
      "29      Isabel de Castro           3\n",
      "30      Bernardo Batista           4\n",
      "31        L?cia Carvalho           2\n",
      "32           Horst Kloss           7\n",
      "33          Paula Wilson           7\n",
      "34       Maurizio Moroni           3\n",
      "35        Janete Limeira           2\n",
      "36          Michael Holz           2\n",
      "37      Alejandra Camino           3\n",
      "38        Jose Pavarotti           4\n",
      "39            Hari Kumar           3\n",
      "40        Jytte Petersen           2\n",
      "41    Art Braunschweiger           6\n",
      "42      Pascale Cartrain           2\n",
      "43  Miguel Angel Paolino           4\n",
      "44     Anabela Domingues           2\n",
      "45           Palle Ibsen           2\n",
      "46          Mary Saveley           2\n",
      "47          Paul Henriot           2\n",
      "48           Rita M?ller           4\n",
      "49      Pirkko Koskitalo           7\n",
      "50         Paula Parente           2\n",
      "51        Karl Jablonski           2\n"
     ]
    }
   ],
   "source": [
    "# 10- Customers who placed more than one order (Loyal Customers)\n",
    "# Customers who placed more than one order (Loyal Customers)\n",
    "orders_per_customer = orders_df.groupby('CustomerID')['OrderID'].nunique()\n",
    "\n",
    "# Filter customers with more than one order\n",
    "loyal_customers = orders_per_customer[orders_per_customer > 1]\n",
    "\n",
    "# Merge with customer names\n",
    "loyal_customers_with_names = pd.merge(loyal_customers, customers_df[['CustomerID', 'ContactName']], on='CustomerID')\n",
    "\n",
    "# Rename columns for clarity\n",
    "loyal_customers_with_names.columns = ['CustomerID', 'OrderCount', 'CustomerName']\n",
    "\n",
    "# Display the results\n",
    "print(loyal_customers_with_names[['CustomerName', 'OrderCount']])\n",
    "\n",
    "\n"
   ]
  },
  {
   "cell_type": "code",
   "execution_count": 10,
   "id": "ca8d868a-41db-4814-9bd1-e0cb6752741d",
   "metadata": {},
   "outputs": [
    {
     "name": "stdout",
     "output_type": "stream",
     "text": [
      "Total Quantity Sold by Category:\n",
      " CategoryName\n",
      "Beverages         2289\n",
      "Condiments        1383\n",
      "Confections       2110\n",
      "Dairy Products    2601\n",
      "Grains/Cereals     912\n",
      "Meat/Poultry      1288\n",
      "Produce            715\n",
      "Seafood           1445\n",
      "Name: Quantity, dtype: int64\n"
     ]
    }
   ],
   "source": [
    "# 11-Total Quantity Sold by Category\n",
    "quantity_by_category = order_details_merged_df.groupby('CategoryName')['Quantity'].sum()\n",
    "print(\"Total Quantity Sold by Category:\\n\", quantity_by_category)\n"
   ]
  },
  {
   "cell_type": "code",
   "execution_count": 14,
   "id": "36da36cb-caa9-4a29-bcf6-cded59447cf6",
   "metadata": {},
   "outputs": [
    {
     "name": "stdout",
     "output_type": "stream",
     "text": [
      "        ShipperName  OrderCount\n",
      "0    Speedy Express          54\n",
      "1    United Package          74\n",
      "2  Federal Shipping          68\n"
     ]
    }
   ],
   "source": [
    "# 12-Orders Shipped by Each Shipper\n",
    "# Count of orders shipped by each shipper (with Shipper Name)\n",
    "orders_by_shipper = orders_df.groupby('ShipperID')['OrderID'].count()\n",
    "\n",
    "# Merge with shipper names from the Shippers dataframe\n",
    "orders_by_shipper_with_names = pd.merge(orders_by_shipper, shippers_df[['ShipperID', 'ShipperName']], on='ShipperID')\n",
    "\n",
    "# Rename columns for clarity\n",
    "orders_by_shipper_with_names.columns = ['ShipperID', 'OrderCount', 'ShipperName']\n",
    "\n",
    "# Display the results\n",
    "print(orders_by_shipper_with_names[['ShipperName', 'OrderCount']])\n",
    "\n"
   ]
  },
  {
   "cell_type": "code",
   "execution_count": null,
   "id": "46e9314b-9451-49af-9209-70f192668fa4",
   "metadata": {},
   "outputs": [],
   "source": []
  }
 ],
 "metadata": {
  "kernelspec": {
   "display_name": "Python 3 (ipykernel)",
   "language": "python",
   "name": "python3"
  },
  "language_info": {
   "codemirror_mode": {
    "name": "ipython",
    "version": 3
   },
   "file_extension": ".py",
   "mimetype": "text/x-python",
   "name": "python",
   "nbconvert_exporter": "python",
   "pygments_lexer": "ipython3",
   "version": "3.12.4"
  }
 },
 "nbformat": 4,
 "nbformat_minor": 5
}
